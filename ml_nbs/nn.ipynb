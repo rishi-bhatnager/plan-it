{
 "cells": [
  {
   "cell_type": "markdown",
   "metadata": {},
   "source": [
    "# The planner's initial neural network code.\n",
    "*Will be exported to ml.py, but in a notebook for now so we can test code as we go.*"
   ]
  },
  {
   "cell_type": "code",
   "execution_count": 3,
   "metadata": {},
   "outputs": [],
   "source": [
    "import numpy as np\n",
    "from tensorflow import keras\n",
    "from tensorflow.keras import layers"
   ]
  },
  {
   "cell_type": "code",
   "execution_count": 6,
   "metadata": {},
   "outputs": [
    {
     "data": {
      "text/plain": [
       "array([[0.8087548 , 0.83527616, 0.3474564 , 0.46188458, 0.55348736],\n",
       "       [0.32281211, 0.00535622, 0.45059891, 0.06465839, 0.81298211],\n",
       "       [0.63989847, 0.24830267, 0.55427974, 0.06932474, 0.60787535],\n",
       "       [0.59739058, 0.82062487, 0.52386034, 0.67313262, 0.93654106],\n",
       "       [0.76837608, 0.36808912, 0.91192636, 0.80250114, 0.09942231],\n",
       "       [0.23570561, 0.18621596, 0.82847323, 0.30741919, 0.82626664],\n",
       "       [0.51187339, 0.55992335, 0.76378461, 0.60095248, 0.2176687 ],\n",
       "       [0.84382996, 0.53633242, 0.43388786, 0.93236346, 0.56998669],\n",
       "       [0.82427081, 0.66654968, 0.83651213, 0.22514751, 0.52069562],\n",
       "       [0.07165847, 0.36827164, 0.30072525, 0.0747374 , 0.81444585],\n",
       "       [0.52517525, 0.34275718, 0.59232794, 0.45782059, 0.91686571],\n",
       "       [0.27877948, 0.21587262, 0.39718648, 0.59500461, 0.28268023],\n",
       "       [0.07689602, 0.63747426, 0.70531363, 0.04270443, 0.5767928 ],\n",
       "       [0.23629747, 0.14215833, 0.38300504, 0.88007083, 0.94546462],\n",
       "       [0.47318108, 0.11188661, 0.11362189, 0.09248949, 0.63491762],\n",
       "       [0.42037304, 0.64816792, 0.43086577, 0.68248932, 0.2279718 ],\n",
       "       [0.63208361, 0.51218493, 0.23755337, 0.72904522, 0.81439319],\n",
       "       [0.60100995, 0.6769087 , 0.4169154 , 0.28511985, 0.38181627],\n",
       "       [0.01105576, 0.91001164, 0.98377434, 0.69627625, 0.67579034],\n",
       "       [0.8100379 , 0.49338778, 0.38712404, 0.29843862, 0.80728319],\n",
       "       [0.92094636, 0.07134504, 0.72944811, 0.21027908, 0.15288804],\n",
       "       [0.57118842, 0.34438074, 0.37063218, 0.91205213, 0.57864602],\n",
       "       [0.64904193, 0.76755562, 0.72591672, 0.19306241, 0.65488153],\n",
       "       [0.84195492, 0.22119523, 0.80750596, 0.63049926, 0.51336486],\n",
       "       [0.12276323, 0.50938847, 0.70697797, 0.20224863, 0.84895642],\n",
       "       [0.45650801, 0.73787365, 0.66549731, 0.85516904, 0.39689944],\n",
       "       [0.7362121 , 0.02864998, 0.65890269, 0.68698477, 0.94877364],\n",
       "       [0.03900051, 0.50079278, 0.97687255, 0.28375606, 0.33073401],\n",
       "       [0.95533247, 0.2077024 , 0.10402293, 0.63981664, 0.1677081 ],\n",
       "       [0.4047429 , 0.69685443, 0.03844294, 0.63460671, 0.01842623],\n",
       "       [0.29842723, 0.33337977, 0.48413629, 0.5793177 , 0.07840125],\n",
       "       [0.77457442, 0.15598994, 0.90255421, 0.90523687, 0.40137046],\n",
       "       [0.25213325, 0.19381351, 0.8683502 , 0.50105842, 0.50026539],\n",
       "       [0.85066174, 0.99878866, 0.17135516, 0.88022934, 0.769816  ],\n",
       "       [0.17542834, 0.51981453, 0.61481111, 0.51037844, 0.00238343],\n",
       "       [0.5115518 , 0.40088155, 0.62172523, 0.94411713, 0.58436574],\n",
       "       [0.6424383 , 0.83094538, 0.55576858, 0.36807624, 0.02060989],\n",
       "       [0.86805946, 0.42335713, 0.62120455, 0.90716313, 0.32899505],\n",
       "       [0.94461954, 0.07241719, 0.32679545, 0.65724024, 0.37970492],\n",
       "       [0.25636394, 0.00458237, 0.01536482, 0.05651731, 0.99556856],\n",
       "       [0.06739075, 0.08532425, 0.51759167, 0.28571632, 0.88362523],\n",
       "       [0.18830089, 0.05844647, 0.0961835 , 0.60027775, 0.16171315],\n",
       "       [0.57093595, 0.51049824, 0.50132225, 0.35608416, 0.03485178],\n",
       "       [0.77990963, 0.03573821, 0.42399323, 0.28005638, 0.23436398],\n",
       "       [0.76049383, 0.92695981, 0.44847358, 0.78974631, 0.63175211],\n",
       "       [0.97426129, 0.92673104, 0.59377216, 0.75871172, 0.5573066 ],\n",
       "       [0.15568633, 0.06560887, 0.38399069, 0.10511599, 0.78135175],\n",
       "       [0.39568265, 0.96704659, 0.62168242, 0.1911409 , 0.01915147]])"
      ]
     },
     "execution_count": 6,
     "metadata": {},
     "output_type": "execute_result"
    }
   ],
   "source": [
    "np.random.rand(48,5)"
   ]
  },
  {
   "cell_type": "code",
   "execution_count": null,
   "metadata": {},
   "outputs": [],
   "source": [
    "# Inputs: time, age, gender, student \n"
   ]
  },
  {
   "cell_type": "code",
   "execution_count": 2,
   "metadata": {},
   "outputs": [
    {
     "ename": "SyntaxError",
     "evalue": "invalid syntax (<ipython-input-2-07706d01a5b7>, line 6)",
     "output_type": "error",
     "traceback": [
      "\u001b[0;36m  File \u001b[0;32m\"<ipython-input-2-07706d01a5b7>\"\u001b[0;36m, line \u001b[0;32m6\u001b[0m\n\u001b[0;31m    net = layers.Dense(, activation='relu')(inputs)\u001b[0m\n\u001b[0m                       ^\u001b[0m\n\u001b[0;31mSyntaxError\u001b[0m\u001b[0;31m:\u001b[0m invalid syntax\n"
     ]
    }
   ],
   "source": [
    "# Fill in number of inputs in shape:\n",
    "inputs = keras.Input(shape=())\n",
    "\n",
    "# Fill in number of neurons in the hidden layers as the first parameter in layers.Dense\n",
    "# This is two hidden layers. Duplicate last line for more\n",
    "net = layers.Dense(, activation='relu')(inputs)\n",
    "net = layers.Dense(, activation='relu')(net)\n",
    "\n",
    "# Output layer, which either uses no activation or softmax (not sure)\n",
    "# Outputs 5 numbers, which will correspond to Productivity Index of each category for the time slot on which the nn is run\n",
    "outputs = layers.Dense(5)(net)"
   ]
  },
  {
   "cell_type": "code",
   "execution_count": null,
   "metadata": {},
   "outputs": [],
   "source": [
    "model = keras.Model(inputs=inputs, outputs=outputs, name=\"pi_matrix\")\n",
    "model.summary()"
   ]
  },
  {
   "cell_type": "code",
   "execution_count": null,
   "metadata": {},
   "outputs": [],
   "source": [
    "# Add a loss function and/or metric(s) if necessary\n",
    "model.compile(optimizer='adam')"
   ]
  }
 ],
 "metadata": {
  "kernelspec": {
   "display_name": "Python 3",
   "language": "python",
   "name": "python3"
  },
  "language_info": {
   "codemirror_mode": {
    "name": "ipython",
    "version": 3
   },
   "file_extension": ".py",
   "mimetype": "text/x-python",
   "name": "python",
   "nbconvert_exporter": "python",
   "pygments_lexer": "ipython3",
   "version": "3.7.7"
  }
 },
 "nbformat": 4,
 "nbformat_minor": 4
}
