{
 "cells": [
  {
   "cell_type": "markdown",
   "metadata": {},
   "source": [
    "# The planner's initial neural network code.\n",
    "*Will be exported to ml.py, but in a notebook for now so we can test code as we go.*"
   ]
  },
  {
   "cell_type": "code",
   "execution_count": 1,
   "metadata": {},
   "outputs": [],
   "source": [
    "import numpy as np\n",
    "from tensorflow import keras\n",
    "from tensorflow.keras import layers"
   ]
  },
  {
   "cell_type": "code",
   "execution_count": 2,
   "metadata": {},
   "outputs": [
    {
     "ename": "SyntaxError",
     "evalue": "invalid syntax (<ipython-input-2-07706d01a5b7>, line 6)",
     "output_type": "error",
     "traceback": [
      "\u001b[0;36m  File \u001b[0;32m\"<ipython-input-2-07706d01a5b7>\"\u001b[0;36m, line \u001b[0;32m6\u001b[0m\n\u001b[0;31m    net = layers.Dense(, activation='relu')(inputs)\u001b[0m\n\u001b[0m                       ^\u001b[0m\n\u001b[0;31mSyntaxError\u001b[0m\u001b[0;31m:\u001b[0m invalid syntax\n"
     ]
    }
   ],
   "source": [
    "# Fill in number of inputs in shape:\n",
    "inputs = keras.Input(shape=())\n",
    "\n",
    "# Fill in number of neurons in the hidden layers as the first parameter in layers.Dense\n",
    "# This is two hidden layers. Duplicate last line for more\n",
    "net = layers.Dense(, activation='relu')(inputs)\n",
    "net = layers.Dense(, activation='relu')(net)\n",
    "\n",
    "# Output layer, which either uses no activation or softmax (not sure)\n",
    "# Outputs 5 numbers, which will correspond to Productivity Index of each category for the time slot on which the nn is run\n",
    "outputs = layers.Dense(10)(net)"
   ]
  },
  {
   "cell_type": "code",
   "execution_count": null,
   "metadata": {},
   "outputs": [],
   "source": [
    "model = keras.Model(inputs=inputs, outputs=outputs, name=\"pi_matrix\")\n",
    "model.summary()"
   ]
  },
  {
   "cell_type": "code",
   "execution_count": null,
   "metadata": {},
   "outputs": [],
   "source": [
    "# Add a loss function and/or metric(s) if necessary\n",
    "model.compile(optimizer='adam')"
   ]
  }
 ],
 "metadata": {
  "kernelspec": {
   "display_name": "Python 3",
   "language": "python",
   "name": "python3"
  },
  "language_info": {
   "codemirror_mode": {
    "name": "ipython",
    "version": 3
   },
   "file_extension": ".py",
   "mimetype": "text/x-python",
   "name": "python",
   "nbconvert_exporter": "python",
   "pygments_lexer": "ipython3",
   "version": "3.7.6"
  }
 },
 "nbformat": 4,
 "nbformat_minor": 4
}
